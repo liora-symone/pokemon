{
  "nbformat": 4,
  "nbformat_minor": 0,
  "metadata": {
    "colab": {
      "provenance": [],
      "authorship_tag": "ABX9TyNPn2G9QpqDNYwVn6fUK5LY",
      "include_colab_link": true
    },
    "kernelspec": {
      "name": "python3",
      "display_name": "Python 3"
    },
    "language_info": {
      "name": "python"
    }
  },
  "cells": [
    {
      "cell_type": "markdown",
      "metadata": {
        "id": "view-in-github",
        "colab_type": "text"
      },
      "source": [
        "<a href=\"https://colab.research.google.com/github/liora-symone/pokemon/blob/main/Pok%C3%A9mon_Assigment_Test.ipynb\" target=\"_parent\"><img src=\"https://colab.research.google.com/assets/colab-badge.svg\" alt=\"Open In Colab\"/></a>"
      ]
    },
    {
      "cell_type": "markdown",
      "source": [
        "# **Pokémon Assignment Test**\n",
        "\n"
      ],
      "metadata": {
        "id": "j3lL4KdnZQFS"
      }
    },
    {
      "cell_type": "markdown",
      "source": [
        "##Setting Up API Keys:\n",
        "1. **Visit the PokéAPI Website:**\n",
        "    - Instruct your instructor to visit the official PokéAPI website at https://pokeapi.co/.\n",
        "2. **Register for an Account (if required):**\n",
        "    - Depending on the API's current policies, your instructor may need to create an account or sign in to access certain features or obtain an API key.\n",
        "    - Advise your instructor to follow the registration or sign-in process if necessary.\n",
        "3. **Generate an API Key (if required):**\n",
        "    - Some APIs, including the PokéAPI, require users to generate an API key (also known as an API token or access key).\n",
        "    - In such cases, your instructor should look for an option to create a new API key within their account dashboard.\n",
        "4. **Retrieve and Secure the API Key:**\n",
        "    - Once an API key is generated, your instructor should retrieve it from the API provider's dashboard.\n",
        "    - API keys are sensitive pieces of information, so they should be stored securely.\n",
        "    - Advising your instructor to save the key in a safe and private location is crucial."
      ],
      "metadata": {
        "id": "gqt6f5Tp9UHr"
      }
    },
    {
      "cell_type": "markdown",
      "source": [
        "## Data Retrieval from Pokémon API"
      ],
      "metadata": {
        "id": "nYcvbjzEZedi"
      }
    },
    {
      "cell_type": "code",
      "source": [
        "import requests\n",
        "\n",
        "# Define the API endpoint and parameters\n",
        "api_url = \"https://pokeapi.co/api/v2/pokemon/\"\n",
        "base_url = \"https://pokeapi.co/api/v2/pokemon\"\n",
        "pokemon_name = \"pikachu\"\n",
        "pokemon_url = f\"{base_url}/{pokemon_name}/\"\n",
        "response = requests.get(f\"{api_url}{pokemon_name}\")\n",
        "\n",
        "# Fetch Pokémon data as JSON\n",
        "# Check if the request was successful (HTTP status code 200) before proceeding\n",
        "if response.status_code == 200:\n",
        "    pokemon_data = response.json()\n",
        "else:\n",
        "    print(\"Error: Unable to retrieve Pokémon data.\")\n",
        "    exit()"
      ],
      "metadata": {
        "id": "Xw5MAV4XZYrJ"
      },
      "execution_count": null,
      "outputs": []
    },
    {
      "cell_type": "code",
      "source": [
        "# Outputting the chosen Pokémon's abilities\n",
        "abilities = pokemon_data[\"abilities\"]\n",
        "\n",
        "print(f\"Abilities of {pokemon_name.capitalize()}:\")\n",
        "for ability in abilities:\n",
        "    ability_name = ability[\"ability\"][\"name\"]\n",
        "    print(f\"- {ability_name.capitalize()}\") # maybe sort alphabetically?"
      ],
      "metadata": {
        "colab": {
          "base_uri": "https://localhost:8080/"
        },
        "id": "WZJiNaSyB8L8",
        "outputId": "706fbb53-9fee-4204-c2e6-b6142f0a47c8"
      },
      "execution_count": null,
      "outputs": [
        {
          "output_type": "stream",
          "name": "stdout",
          "text": [
            "Abilities of Pikachu:\n",
            "- Static\n",
            "- Lightning-rod\n"
          ]
        }
      ]
    },
    {
      "cell_type": "code",
      "source": [
        "# Outputting the chosen Pokémon's moves\n",
        "moves = pokemon_data[\"moves\"]\n",
        "\n",
        "print(f\"Moves of {pokemon_name.capitalize()}:\")\n",
        "for move in moves:\n",
        "    move_name = move[\"move\"][\"name\"]\n",
        "    print(f\"- {move_name.capitalize()}\") # maybe sort alphabetically?"
      ],
      "metadata": {
        "id": "qNh6LoSyQSgQ"
      },
      "execution_count": null,
      "outputs": []
    },
    {
      "cell_type": "code",
      "source": [
        "# Outputting the chosen Pokémon's types\n",
        "types = pokemon_data[\"types\"]\n",
        "\n",
        "print(f\"Type(s) of {pokemon_name.capitalize()}:\")\n",
        "for type in types:\n",
        "    type_name = type[\"type\"][\"name\"]\n",
        "    print(f\"- {type_name.capitalize()}\") # maybe sort alphabetically?"
      ],
      "metadata": {
        "colab": {
          "base_uri": "https://localhost:8080/"
        },
        "id": "nEjoIoddQuEy",
        "outputId": "20d8c5e7-3de3-4c40-e2c2-23394480dfa8"
      },
      "execution_count": null,
      "outputs": [
        {
          "output_type": "stream",
          "name": "stdout",
          "text": [
            "Type(s) of Pikachu:\n",
            "- Electric\n"
          ]
        }
      ]
    },
    {
      "cell_type": "code",
      "source": [
        "import requests\n",
        "\n",
        "def get_pokemon_gen(pokemon_name):\n",
        "# Define the API endpoint and parameters\n",
        "    gen_url = f\"{base_url}-species/{pokemon_name.lower()}/\"\n",
        "\n",
        "# Make an HTTP GET request to the PokéAPI\n",
        "    response = requests.get(gen_url)\n",
        "\n",
        "    # Check if the request was successful\n",
        "    if response.status_code == 200:\n",
        "        data = response.json()\n",
        "\n",
        "        # Look for the \"generation\" or \"version_group\" information\n",
        "        generation = None\n",
        "        if \"generation\" in data:\n",
        "            generation = data[\"generation\"][\"name\"]\n",
        "        elif \"version_group\" in data:\n",
        "            generation = data[\"version_group\"][\"name\"]\n",
        "\n",
        "        if generation:\n",
        "            return f\"The Pokémon belongs to the {generation} generation.\"\n",
        "        else:\n",
        "            return \"Unable to determine the Pokémon's generation.\"\n",
        "\n",
        "    else:\n",
        "        return \"Pokémon not found.\"\n",
        "\n",
        "# Example usage:\n",
        "base_url = \"https://pokeapi.co/api/v2/pokemon\"\n",
        "pokemon_name = \"Cyndaquil\"\n",
        "gen_info = get_pokemon_gen(pokemon_name)\n",
        "print(gen_info)"
      ],
      "metadata": {
        "id": "wlNzVoFh60Qq"
      },
      "execution_count": null,
      "outputs": []
    }
  ]
}
