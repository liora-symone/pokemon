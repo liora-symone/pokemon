{
  "nbformat": 4,
  "nbformat_minor": 0,
  "metadata": {
    "colab": {
      "provenance": [],
      "authorship_tag": "ABX9TyOjlXLSJ+xYe/1C31vVrIxz",
      "include_colab_link": true
    },
    "kernelspec": {
      "name": "python3",
      "display_name": "Python 3"
    },
    "language_info": {
      "name": "python"
    }
  },
  "cells": [
    {
      "cell_type": "markdown",
      "metadata": {
        "id": "view-in-github",
        "colab_type": "text"
      },
      "source": [
        "<a href=\"https://colab.research.google.com/github/liora-symone/pokemon/blob/main/Pok%C3%A9mon_Team_Builder.ipynb\" target=\"_parent\"><img src=\"https://colab.research.google.com/assets/colab-badge.svg\" alt=\"Open In Colab\"/></a>"
      ]
    },
    {
      "cell_type": "markdown",
      "source": [
        "# **Pokémon Team Builder**"
      ],
      "metadata": {
        "id": "fzPa_Oz2EE-n"
      }
    },
    {
      "cell_type": "markdown",
      "source": [
        "##Setting Up API Keys:\n",
        "1. **Visit the PokéAPI Website:**\n",
        "    - Instruct your instructor to visit the official PokéAPI website at https://pokeapi.co/.\n",
        "2. **Register for an Account (if required):**\n",
        "    - Depending on the API's current policies, your instructor may need to create an account or sign in to access certain features or obtain an API key.\n",
        "    - Advise your instructor to follow the registration or sign-in process if necessary.\n",
        "3. **Generate an API Key (if required):**\n",
        "    - Some APIs, including the PokéAPI, require users to generate an API key (also known as an API token or access key).\n",
        "    - In such cases, your instructor should look for an option to create a new API key within their account dashboard.\n",
        "4. **Retrieve and Secure the API Key:**\n",
        "    - Once an API key is generated, your instructor should retrieve it from the API provider's dashboard.\n",
        "    - API keys are sensitive pieces of information, so they should be stored securely.\n",
        "    - Advising your instructor to save the key in a safe and private location is crucial."
      ],
      "metadata": {
        "id": "gqt6f5Tp9UHr"
      }
    },
    {
      "cell_type": "code",
      "execution_count": null,
      "metadata": {
        "id": "KsFTxbuLBowS"
      },
      "outputs": [],
      "source": [
        "# Welcome the user to the adventure!\n",
        "def welcome_user():\n",
        "    print(\"Welcome to the Pokémon Team Builder Adventure!\")\n",
        "    print(\"You are a young Pokémon Trainer on a quest to become a Pokémon Champion.\")\n",
        "\n",
        "# Ask the user what their ultimate goal is\n",
        "    print(\"What's your team's ULTIMATE goal?\")\n",
        "    print(\"1. Attack (Strong offense)\")\n",
        "    print(\"2. Defence (High durability)\")\n",
        "    print(\"3. Support (Healing and buffing)\")\n",
        "\n",
        "# Ask the user for input\n",
        "    while True:\n",
        "      choice = input(\"Enter your choice (1/2/3): \")\n",
        "\n",
        "      if choice == \"1\":\n",
        "          return \"Attack\"\n",
        "      elif choice == \"2\":\n",
        "          return \"Defence\"\n",
        "      elif choice == \"3\":\n",
        "          return \"Support\"\n",
        "      else:\n",
        "          print(\"Invalid choice. Please select a valid option.\")"
      ]
    },
    {
      "cell_type": "code",
      "source": [
        "# Define a dictionary to map region names to their IDs\n",
        "regions = {\n",
        "    \"Kanto\": 1,\n",
        "    \"Johto\": 2,\n",
        "    \"Hoenn\": 3,\n",
        "    \"Sinnoh\": 4,\n",
        "    \"Unova\": 5,\n",
        "    \"Kalos\": 6,\n",
        "    \"Alola\": 7,\n",
        "    \"Galar\": 8,\n",
        "    \"National\": 9,\n",
        "}\n",
        "\n",
        "# Initialize a list to store the selected regions\n",
        "selected_regions = []\n",
        "\n",
        "# Display a menu of regions for the user to choose from\n",
        "print(\"Select the region(s) you want to choose Pokémon from (enter the number):\")\n",
        "for region_name, region_id in regions.items():\n",
        "    print(f\"{region_id}. {region_name}\")\n",
        "\n",
        "# Prompt the user to enter the region numbers they want\n",
        "while True:\n",
        "    region_choice = input(\"Enter the number of the region (or 'done' to finish): \")\n",
        "\n",
        "    if region_choice.lower() == \"done\":\n",
        "        break\n",
        "\n",
        "    try:\n",
        "        region_choice = int(region_choice)\n",
        "        if region_choice in regions.values():\n",
        "            selected_regions.append(region_choice)\n",
        "        else:\n",
        "            print(\"Invalid region number. Please enter a valid number.\")\n",
        "    except ValueError:\n",
        "        print(\"Invalid input. Please enter a valid number or 'done' to finish.\")\n",
        "\n",
        "# Convert selected region IDs back to region names\n",
        "selected_region_names = [region_name for region_name, region_id in regions.items() if region_id in selected_regions]\n",
        "\n",
        "# Print the selected regions\n",
        "print(\"You have selected the following region(s):\")\n",
        "for region_name in selected_region_names:\n",
        "    print(region_name)\n"
      ],
      "metadata": {
        "id": "TniTOIMmeizu"
      },
      "execution_count": null,
      "outputs": []
    }
  ]
}